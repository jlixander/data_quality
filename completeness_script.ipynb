{
 "cells": [
  {
   "cell_type": "code",
   "execution_count": null,
   "id": "620feac7",
   "metadata": {},
   "outputs": [],
   "source": [
    "#libraries\n",
    "import numpy as np\n",
    "import pandas as pd\n",
    "import os\n",
    "import csv\n",
    "import dataframe_image as dfi\n",
    "\n",
    "#pandas options\n",
    "pd.set_option('display.max_columns', None)"
   ]
  },
  {
   "cell_type": "code",
   "execution_count": null,
   "id": "2033768c",
   "metadata": {},
   "outputs": [],
   "source": []
  },
  {
   "cell_type": "markdown",
   "id": "9d42e895",
   "metadata": {},
   "source": [
    "# Create folder for file exports"
   ]
  },
  {
   "cell_type": "code",
   "execution_count": null,
   "id": "d78aaf55",
   "metadata": {},
   "outputs": [],
   "source": [
    "#Create directory folder saving exports\n",
    "outdir = './exports'\n",
    "if not os.path.exists(outdir):\n",
    "    os.mkdir(outdir)"
   ]
  },
  {
   "cell_type": "markdown",
   "id": "fbdd0d5e",
   "metadata": {},
   "source": [
    "# Load Data"
   ]
  },
  {
   "cell_type": "code",
   "execution_count": null,
   "id": "b8a087e3",
   "metadata": {},
   "outputs": [],
   "source": [
    "#Load all medications data\n",
    "df = pd.read_csv(\"dataset.csv\")"
   ]
  },
  {
   "cell_type": "code",
   "execution_count": null,
   "id": "a87e1f8e",
   "metadata": {},
   "outputs": [],
   "source": [
    "df.head()"
   ]
  },
  {
   "cell_type": "markdown",
   "id": "41c1f983",
   "metadata": {},
   "source": [
    "# Get full null columns and non-varying value columns"
   ]
  },
  {
   "cell_type": "markdown",
   "id": "c5ebb57b",
   "metadata": {},
   "source": [
    "### Working with full null columns"
   ]
  },
  {
   "cell_type": "code",
   "execution_count": null,
   "id": "14ff281f",
   "metadata": {},
   "outputs": [],
   "source": [
    "#Identify columns where all values are NULL\n",
    "full_null_cols_df = pd.DataFrame(df.isnull().all()).reset_index().rename(columns={'index': 'field name'})\n",
    "full_null_cols_df = full_null_cols_df[full_null_cols_df[0] ==True]\n",
    "\n",
    "#Export list of full null columns\n",
    "fullname = os.path.join(outdir, 'full_null_cols_list.csv')\n",
    "full_null_cols_df['field name'].to_csv(fullname, index=False)"
   ]
  },
  {
   "cell_type": "markdown",
   "id": "21dcf809",
   "metadata": {},
   "source": [
    "### Working with columns where all values are the same"
   ]
  },
  {
   "cell_type": "code",
   "execution_count": null,
   "id": "b2e843c0",
   "metadata": {},
   "outputs": [],
   "source": [
    "#Identify columns where all values are the same\n",
    "num_unique_vals_df = pd.DataFrame(df.nunique()).reset_index().rename(columns={'index': 'field name'})\n",
    "non_varying_values_df = num_unique_vals_df[num_unique_vals_df[0] == 1]\n",
    "\n",
    "#Add column with the non-varying value\n",
    "col_lst = list(non_varying_values_df['field name'])\n",
    "\n",
    "col_unique_vals_lst = []\n",
    "\n",
    "for col in col_lst:\n",
    "    col_unique_vals_lst.append(df[col].unique().tolist())\n",
    "    \n",
    "    \n",
    "unq_vals_col_df = pd.DataFrame(list(zip(col_lst, col_unique_vals_lst)), columns=['field name', 'unq_val'])\n",
    "unq_vals_col_df\n",
    "\n",
    "#Export list of non-varying columns\n",
    "fullname = os.path.join(outdir, 'nonvarying_cols_list.csv')\n",
    "unq_vals_col_df.to_csv(fullname, index=False)"
   ]
  },
  {
   "cell_type": "code",
   "execution_count": null,
   "id": "b21e083c",
   "metadata": {},
   "outputs": [],
   "source": []
  },
  {
   "cell_type": "markdown",
   "id": "0dac2ad0",
   "metadata": {},
   "source": [
    "# Create completeness metrics table"
   ]
  },
  {
   "cell_type": "code",
   "execution_count": null,
   "id": "f0b0a2ea",
   "metadata": {},
   "outputs": [],
   "source": [
    "#Remove columns (empty, or single values throughout)\n",
    "null_and_nonvaryingvals_lst = full_null_cols_df['field name'].tolist() + non_varying_values_df['field name'].tolist()\n",
    "df = df.loc[:, ~df.columns.str.contains('^Unnamed')] #remove unnamed column - redundant index value if exists\n",
    "df.drop(null_and_nonvaryingvals_lst, axis=1, inplace=True)"
   ]
  },
  {
   "cell_type": "code",
   "execution_count": null,
   "id": "720df415",
   "metadata": {},
   "outputs": [],
   "source": [
    "#Get number of records in dataframe\n",
    "num_recs = df.shape[0]\n",
    "print(num_recs)"
   ]
  },
  {
   "cell_type": "code",
   "execution_count": null,
   "id": "80e40009",
   "metadata": {},
   "outputs": [],
   "source": [
    "#Create dataframe with number of distinct values in each column\n",
    "col_lst = list(df.columns)\n",
    "col_unique_lst = []\n",
    "for col in col_lst:\n",
    "    col_unique_lst.append(df[col].nunique())\n",
    "\n",
    "unq_vals_col_df = pd.DataFrame(list(zip(col_lst, col_unique_lst)), columns=['field name', 'num_unq_vals'])\n",
    "unq_vals_col_df = unq_vals_col_df.set_index('field name')"
   ]
  },
  {
   "cell_type": "code",
   "execution_count": null,
   "id": "537db5e5",
   "metadata": {},
   "outputs": [],
   "source": [
    "unq_vals_col_df"
   ]
  },
  {
   "cell_type": "code",
   "execution_count": null,
   "id": "5f444d14",
   "metadata": {
    "scrolled": false
   },
   "outputs": [],
   "source": [
    "compl_df = pd.DataFrame((df.isnull().sum(axis = 0)), columns = ['NULL_CNT'])\n",
    "compl_df['NON_NULL_CNT'] = num_recs-(compl_df['NULL_CNT'])\n",
    "compl_df['PERC_NULL'] = compl_df['NULL_CNT']/num_recs\n",
    "compl_df['PERC_NON_NULL'] = compl_df['NON_NULL_CNT']/num_recs\n",
    "compl_df = compl_df.join(unq_vals_col_df)\n",
    "\n",
    "\n",
    "#Export list of non-varying columns\n",
    "fullname = os.path.join(outdir, 'completeness_tabular_results.csv')\n",
    "compl_df.to_csv(fullname, index=True)"
   ]
  },
  {
   "cell_type": "code",
   "execution_count": null,
   "id": "c644f295",
   "metadata": {},
   "outputs": [],
   "source": [
    "compl_df"
   ]
  },
  {
   "cell_type": "code",
   "execution_count": null,
   "id": "c543a4aa",
   "metadata": {},
   "outputs": [],
   "source": []
  }
 ],
 "metadata": {
  "kernelspec": {
   "display_name": "Python 3 (ipykernel)",
   "language": "python",
   "name": "python3"
  },
  "language_info": {
   "codemirror_mode": {
    "name": "ipython",
    "version": 3
   },
   "file_extension": ".py",
   "mimetype": "text/x-python",
   "name": "python",
   "nbconvert_exporter": "python",
   "pygments_lexer": "ipython3",
   "version": "3.9.13"
  }
 },
 "nbformat": 4,
 "nbformat_minor": 5
}
